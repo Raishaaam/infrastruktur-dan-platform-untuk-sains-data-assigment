{
 "cells": [
  {
   "cell_type": "markdown",
   "metadata": {},
   "source": [
    "#### **Soal 1: Memecahkan Masalah Unik dengan Loop dan If-Else**\n",
    "\n",
    "- **Soal**: Buatlah program yang dapat menghasilkan pola berbentuk angka seperti di bawah ini, dengan syarat angka yang ditampilkan adalah hasil dari penjumlahan bilangan prima sebelumnya:\n",
    "    ```\n",
    "    1\n",
    "    2 3\n",
    "    5 7 11\n",
    "    13 17 19 23\n",
    "    ...\n",
    "    ```\n",
    "    Jumlah angka pada setiap baris bertambah 1, dan bilangan yang ditampilkan adalah bilangan prima.\n",
    "\n",
    "- **Tujuan**: Menguji pemahaman tentang loop, bilangan prima, dan bagaimana pola dihasilkan.\n"
   ]
  },
  {
   "cell_type": "code",
   "execution_count": 1,
   "metadata": {},
   "outputs": [
    {
     "name": "stdout",
     "output_type": "stream",
     "text": [
      "2 \n",
      "3 5 \n",
      "7 11 13 \n",
      "17 19 23 29 \n"
     ]
    }
   ],
   "source": [
    "# Jawaban: \n",
    "def is_prima(n):\n",
    "  \"\"\"Mengembalikan True jika n adalah bilangan prima, False jika tidak.\"\"\"\n",
    "  if n <= 1:\n",
    "    return False\n",
    "  for i in range(2, int(n**0.5) + 1):\n",
    "    if n % i == 0:\n",
    "      return False\n",
    "  return True\n",
    "\n",
    "def cetak_pola_prima(baris):\n",
    "  \"\"\"Mencetak pola bilangan prima dengan jumlah baris yang ditentukan.\"\"\"\n",
    "  jumlah_prima = 0\n",
    "  angka_saat_ini = 2\n",
    "  for i in range(1, baris + 1):\n",
    "    jumlah_angka_sebaris = 0\n",
    "    while jumlah_angka_sebaris < i:\n",
    "      if is_prima(angka_saat_ini):\n",
    "        print(angka_saat_ini, end=\" \")\n",
    "        jumlah_prima += angka_saat_ini\n",
    "        jumlah_angka_sebaris += 1\n",
    "      angka_saat_ini += 1\n",
    "    print()\n",
    "\n",
    "# Menentukan jumlah baris pola\n",
    "jumlah_baris = 4 \n",
    "\n",
    "# Memanggil fungsi untuk mencetak pola\n",
    "cetak_pola_prima(jumlah_baris)"
   ]
  },
  {
   "cell_type": "markdown",
   "metadata": {},
   "source": [
    "#### **Soal 2: Membuat Fungsi dengan Syarat Spesifik**\n",
    "\n",
    "- **Soal**: Buatlah sebuah fungsi yang menerima dua input berupa list angka. Fungsi ini harus mengembalikan sebuah list baru yang berisi elemen dari dua list input yang memiliki indeks ganjil. List baru tersebut juga harus diurutkan secara menurun berdasarkan nilai elemen.\n",
    "- **Tujuan**: Menguji mahasiswa dalam manipulasi list, penggunaan indeks, serta pemahaman tentang fungsi dan pengurutan.\n"
   ]
  },
  {
   "cell_type": "code",
   "execution_count": 3,
   "metadata": {},
   "outputs": [
    {
     "name": "stdout",
     "output_type": "stream",
     "text": [
      "[1, 3, 5, 2] [8, 9, 7, 6]\n",
      " List Angka Genap: [2, 8, 6]\n",
      " List Angka Ganjil: [9, 7, 5, 3, 1]\n"
     ]
    }
   ],
   "source": [
    "# Jawaban:\n",
    "list1 = []\n",
    "n1 = int(input(\"Masukkan baris yang terdapat pada list 1: \"))\n",
    "for i in range(1, n1+1):\n",
    "  angka = int(input(\"Masukkan angka untuk list 1: \"))\n",
    "  list1.append(angka)\n",
    "\n",
    "list2 = []\n",
    "n2 = int(input(\"Masukkan baris yang terdapat pada list 2: \"))\n",
    "for i in range(1, n2+1):\n",
    "  angka = int(input(\"Masukkan angka untuk list 2: \"))\n",
    "  list2.append(angka)\n",
    "\n",
    "print(list1, list2)\n",
    "\n",
    "genap = []\n",
    "ganjil = []\n",
    "\n",
    "for j in list1 + list2:  \n",
    "  if(j%2==0):\n",
    "      genap.append(j)\n",
    "  else:\n",
    "      ganjil.append(j)\n",
    "\n",
    "ganjil.sort(reverse=True)  \n",
    "\n",
    "print (\" List Angka Genap:\", genap)     \n",
    "print (\" List Angka Ganjil:\", ganjil)"
   ]
  },
  {
   "cell_type": "markdown",
   "metadata": {},
   "source": [
    "#### **Soal 3: Exception Handling dalam Konteks Nyata**\n",
    "\n",
    "- **Soal**: Buat sebuah program untuk mensimulasikan transaksi ATM. Program harus:\n",
    "    1. Meminta pengguna memasukkan PIN (dibatasi 3 kali percobaan).\n",
    "    2. Setelah PIN benar, meminta jumlah penarikan.\n",
    "    3. Jika saldo kurang dari jumlah yang ditarik, munculkan pesan kesalahan.\n",
    "    4. Jika penarikan berhasil, tampilkan saldo akhir.\n",
    "- **Tujuan**: Menguji penggunaan input, while loop, exception handling, dan logika untuk memproses skenario kehidupan nyata.\n"
   ]
  },
  {
   "cell_type": "code",
   "execution_count": 14,
   "metadata": {},
   "outputs": [
    {
     "name": "stdout",
     "output_type": "stream",
     "text": [
      "PIN Salah. Sisa Percobaan: 2\n",
      "Selamat Datang di ATM\n",
      "Pilih Opsi :\n",
      "1. Cek Saldo\n",
      "2. Tarik Tunai\n",
      "3. Setor Tunai\n",
      "4. Keluar\n",
      "Saldo Anda: Rp 1000000\n",
      "Selamat Datang di ATM\n",
      "Pilih Opsi :\n",
      "1. Cek Saldo\n",
      "2. Tarik Tunai\n",
      "3. Setor Tunai\n",
      "4. Keluar\n",
      "Saldo anda tidak mencukupi.\n",
      "Selamat Datang di ATM\n",
      "Pilih Opsi :\n",
      "1. Cek Saldo\n",
      "2. Tarik Tunai\n",
      "3. Setor Tunai\n",
      "4. Keluar\n",
      "Penarikan berhasil. Saldo anda: Rp 970000\n",
      "Selamat Datang di ATM\n",
      "Pilih Opsi :\n",
      "1. Cek Saldo\n",
      "2. Tarik Tunai\n",
      "3. Setor Tunai\n",
      "4. Keluar\n",
      "Setor tunai berhasil. Saldo anda: Rp 2970000\n",
      "Selamat Datang di ATM\n",
      "Pilih Opsi :\n",
      "1. Cek Saldo\n",
      "2. Tarik Tunai\n",
      "3. Setor Tunai\n",
      "4. Keluar\n",
      "Terima Kasih\n"
     ]
    }
   ],
   "source": [
    "# Jawaban:\n",
    "\n",
    "pin_atm = 3124\n",
    "max_attempts = 3  \n",
    "saldo = 1000000 \n",
    "\n",
    "def verifikasi_pin():\n",
    "  attempts = 0\n",
    "  while attempts < max_attempts:\n",
    "    input_pin = int(input(\"Masukkan PIN Anda: \"))\n",
    "    if input_pin == pin_atm:\n",
    "      return True\n",
    "    else:\n",
    "      attempts += 1\n",
    "      print(\"PIN Salah. Sisa Percobaan:\", max_attempts - attempts)\n",
    "\n",
    "  print(\"PIN Salah. Anda Telah Mencapai Batas Maksimum Percobaan.\")\n",
    "  return False\n",
    "\n",
    "def menu_utama():\n",
    "  print(\"Selamat Datang di ATM\")      \n",
    "  print(\"Pilih Opsi :\")\n",
    "  print(\"1. Cek Saldo\")\n",
    "  print(\"2. Tarik Tunai\")\n",
    "  print(\"3. Setor Tunai\")\n",
    "  print(\"4. Keluar\")\n",
    "\n",
    "if verifikasi_pin():\n",
    "  while True:\n",
    "    menu_utama()\n",
    "\n",
    "    pilihan =input(\"Pilih Menu (1-4): \")\n",
    "\n",
    "    if pilihan == \"1\":\n",
    "      print(\"Saldo Anda: Rp\", saldo)\n",
    "    elif pilihan == \"2\":\n",
    "        tarik_tunai = int(input(\"Masukkan jumlah tarik tunai: \"))\n",
    "        if tarik_tunai <= saldo:\n",
    "            saldo = saldo - tarik_tunai \n",
    "            print(\"Penarikan berhasil. Saldo anda: Rp\", saldo)\n",
    "        else:\n",
    "            print(\"Saldo anda tidak mencukupi.\")\n",
    "    elif pilihan == \"3\":\n",
    "         setor_tunai = int(input(\"Masukkan jumlah setor tunai: \"))\n",
    "         saldo += setor_tunai\n",
    "         print(\"Setor tunai berhasil. Saldo anda: Rp\", saldo)\n",
    "    elif pilihan == \"4\":\n",
    "        print(\"Terima Kasih\")\n",
    "        break   \n",
    "    else:\n",
    "        print(\"Pilihan tidak valid. Silahkan pilih opsi lain\")"
   ]
  },
  {
   "cell_type": "markdown",
   "metadata": {},
   "source": [
    "#### **Soal 4: Studi Kasus Pengelolaan Data**\n",
    "\n",
    "- **Soal**: Anda diberikan file CSV berisi data nilai ujian mahasiswa. Tugas Anda adalah menulis sebuah program yang:\n",
    "    1. Membaca file CSV dan menyimpan datanya ke dalam dictionary.\n",
    "    2. Menghitung rata-rata nilai tiap mahasiswa.\n",
    "    3. Menampilkan mahasiswa dengan nilai tertinggi dan terendah.\n",
    "\n",
    "- **Tujuan**: Menguji kemampuan mahasiswa dalam membaca file, mengelola data dengan dictionary, serta menerapkan logika perhitungan.\n"
   ]
  },
  {
   "cell_type": "code",
   "execution_count": 20,
   "metadata": {},
   "outputs": [
    {
     "name": "stdout",
     "output_type": "stream",
     "text": [
      "   Nama Siswa  Nilai\n",
      "0     Siswa_1     59\n",
      "1     Siswa_2     79\n",
      "2     Siswa_3     61\n",
      "3     Siswa_4     74\n",
      "4     Siswa_5     50\n",
      "..        ...    ...\n",
      "95   Siswa_96     59\n",
      "96   Siswa_97     57\n",
      "97   Siswa_98     70\n",
      "98   Siswa_99     66\n",
      "99  Siswa_100     78\n",
      "\n",
      "[100 rows x 2 columns]\n",
      "{'Nama Siswa': ['Siswa_1', 'Siswa_2', 'Siswa_3', 'Siswa_4', 'Siswa_5', 'Siswa_6', 'Siswa_7', 'Siswa_8', 'Siswa_9', 'Siswa_10', 'Siswa_11', 'Siswa_12', 'Siswa_13', 'Siswa_14', 'Siswa_15', 'Siswa_16', 'Siswa_17', 'Siswa_18', 'Siswa_19', 'Siswa_20', 'Siswa_21', 'Siswa_22', 'Siswa_23', 'Siswa_24', 'Siswa_25', 'Siswa_26', 'Siswa_27', 'Siswa_28', 'Siswa_29', 'Siswa_30', 'Siswa_31', 'Siswa_32', 'Siswa_33', 'Siswa_34', 'Siswa_35', 'Siswa_36', 'Siswa_37', 'Siswa_38', 'Siswa_39', 'Siswa_40', 'Siswa_41', 'Siswa_42', 'Siswa_43', 'Siswa_44', 'Siswa_45', 'Siswa_46', 'Siswa_47', 'Siswa_48', 'Siswa_49', 'Siswa_50', 'Siswa_51', 'Siswa_52', 'Siswa_53', 'Siswa_54', 'Siswa_55', 'Siswa_56', 'Siswa_57', 'Siswa_58', 'Siswa_59', 'Siswa_60', 'Siswa_61', 'Siswa_62', 'Siswa_63', 'Siswa_64', 'Siswa_65', 'Siswa_66', 'Siswa_67', 'Siswa_68', 'Siswa_69', 'Siswa_70', 'Siswa_71', 'Siswa_72', 'Siswa_73', 'Siswa_74', 'Siswa_75', 'Siswa_76', 'Siswa_77', 'Siswa_78', 'Siswa_79', 'Siswa_80', 'Siswa_81', 'Siswa_82', 'Siswa_83', 'Siswa_84', 'Siswa_85', 'Siswa_86', 'Siswa_87', 'Siswa_88', 'Siswa_89', 'Siswa_90', 'Siswa_91', 'Siswa_92', 'Siswa_93', 'Siswa_94', 'Siswa_95', 'Siswa_96', 'Siswa_97', 'Siswa_98', 'Siswa_99', 'Siswa_100'], 'Nilai': [59, 79, 61, 74, 50, 70, 100, 84, 78, 61, 92, 60, 78, 87, 57, 73, 53, 54, 97, 52, 84, 89, 52, 90, 52, 64, 96, 100, 84, 60, 85, 63, 64, 68, 67, 52, 79, 55, 88, 95, 78, 66, 71, 64, 51, 77, 90, 83, 99, 56, 68, 88, 62, 98, 58, 92, 60, 55, 93, 60, 53, 79, 75, 83, 58, 50, 75, 61, 57, 98, 85, 57, 53, 55, 54, 64, 51, 65, 68, 51, 99, 89, 92, 56, 96, 79, 76, 71, 98, 89, 92, 65, 50, 84, 67, 59, 57, 70, 66, 78]}\n",
      "\n",
      "Rata-rata nilai adalah: 72.0\n",
      "\n",
      "\n",
      "Nilai tertinggi adalah: 100\n",
      "Nilai terendah adalah: 50\n"
     ]
    }
   ],
   "source": [
    "# Jawaban:\n",
    "\n",
    "import pandas as pd\n",
    "\n",
    "data = pd.read_csv(\"D:/Semester 3/IPSD-Assigment/MODUL 1 - Dasar-Dasar Python untuk Sains Data/siswa_nilai (1).csv\")\n",
    "print(data)\n",
    "\n",
    "data_dict = data.to_dict(orient='list')\n",
    "print(data_dict)\n",
    "print()\n",
    "\n",
    "nilai = data_dict.get('Nilai', [])\n",
    "nama = data_dict.get('Nama Siswa', [])\n",
    "\n",
    "if nilai:\n",
    "    rata_rata = sum(nilai) / len(nilai)\n",
    "    rata_all = round(rata_rata, 2)\n",
    "    print(f\"Rata-rata nilai adalah: {rata_all}\")\n",
    "    print()\n",
    "    nilai_tertinggi = max(nilai)\n",
    "    nilai_terendah = min(nilai)\n",
    "    print()\n",
    "    print(f\"Nilai tertinggi adalah: {nilai_tertinggi}\")\n",
    "    print(f\"Nilai terendah adalah: {nilai_terendah}\")\n",
    "else:\n",
    "    print(\"Nilai tidak ada\")"
   ]
  },
  {
   "cell_type": "markdown",
   "metadata": {},
   "source": [
    "#### **Soal 5: Kombinasi Logika dan Kreativitas**\n",
    "\n",
    "- **Soal**: Buatlah permainan sederhana menggunakan Python, di mana komputer akan memilih sebuah angka secara acak antara 1 hingga 100, dan pengguna harus menebak angka tersebut. Setiap tebakan yang salah akan memberikan petunjuk apakah angka yang ditebak lebih besar atau lebih kecil dari angka sebenarnya. Batasi jumlah percobaan menjadi 5 kali. Setelah permainan selesai, tampilkan apakah pemain menang atau kalah.\n",
    "- **Tujuan**: Menguji logika, kontrol alur program, penggunaan modul `random`, serta kreativitas dalam membangun program interaktif.\n"
   ]
  },
  {
   "cell_type": "code",
   "execution_count": 8,
   "metadata": {},
   "outputs": [
    {
     "name": "stdout",
     "output_type": "stream",
     "text": [
      "Angka tebakan nilainya lebih kecil\n",
      " Tersisa 4 kesempatan\n",
      "\n",
      "Angka tebakan nilainya lebih kecil\n",
      " Tersisa 3 kesempatan\n",
      "\n",
      "Angka tebakan nilainya lebih kecil\n",
      " Tersisa 2 kesempatan\n",
      "\n",
      "Angka tebakan nilainya lebih kecil\n",
      " Tersisa 1 kesempatan\n",
      "\n",
      "Angka tebakan nilainya lebih kecil\n",
      " Tersisa 0 kesempatan\n",
      "\n",
      "Kesempatanmu telah habis, game over\n",
      "Angka tebakan adalah 96\n"
     ]
    }
   ],
   "source": [
    "# Jawaban:\n",
    "import random\n",
    "\n",
    "acak = random.randint(1, 100) \n",
    "peluang = 5\n",
    "while peluang > 0:\n",
    "  data = int(input(\"Masukkan angka tebakan: \"))\n",
    "  if data > acak:\n",
    "    peluang -= 1\n",
    "    print(\"Angka tebakan nilainya lebih besar\") \n",
    "    print(f'Tersisa {peluang} kesempatan\\n')\n",
    "\n",
    "  if data < acak:\n",
    "    peluang -= 1 \n",
    "    print(\"Angka tebakan nilainya lebih kecil\")  \n",
    "    print(f' Tersisa {peluang} kesempatan\\n') \n",
    "  if data == acak:\n",
    "      peluang -= 1\n",
    "      print(\"Selamat, tebakan anda benar\")\n",
    "      print(f'Tersisa {peluang} kesempatan\\n')\n",
    "      break\n",
    "\n",
    "  if peluang == 0: # Fixed indentation\n",
    "    print(\"Kesempatanmu telah habis, game over\")\n",
    "    print(f\"Angka tebakan adalah {acak}\") # Print the correct number (acak)"
   ]
  },
  {
   "cell_type": "markdown",
   "metadata": {},
   "source": [
    "#### **Soal 6: Rekursi yang Tidak Biasa**\n",
    "\n",
    "- **Soal**: Buat fungsi rekursif yang menerima input bilangan bulat `n` dan menghasilkan urutan bilangan seperti berikut ini:\n",
    "    ```\n",
    "    Input: n = 4\n",
    "    Output: 1, 1, 2, 6, 24\n",
    "    ```\n",
    "    Fungsi ini harus menggunakan konsep rekursi untuk menghitung faktorial setiap angka hingga `n`.\n",
    "\n",
    "- **Tujuan**: Menguji pemahaman rekursi dengan penerapan unik dan sulit dipahami secara instan oleh AI.\n"
   ]
  },
  {
   "cell_type": "code",
   "execution_count": 16,
   "metadata": {},
   "outputs": [
    {
     "name": "stdout",
     "output_type": "stream",
     "text": [
      "1, 1, 2, 6, 24, "
     ]
    }
   ],
   "source": [
    "# Jawaban:\n",
    "def fa(n):\n",
    "  if n==0:\n",
    "    return 1 \n",
    "  else:\n",
    "    return n*fa(n-1)\n",
    "\n",
    "n = int(input(\"masukkan bil = \"))\n",
    "\n",
    "for i in range(n+1):\n",
    "  print(fa(i), end=\", \")"
   ]
  },
  {
   "cell_type": "markdown",
   "metadata": {},
   "source": [
    "#### **Soal 7: Pemrograman dengan Algoritma Greedy**\n",
    "\n",
    "- **Soal**: Buatlah program untuk memecahkan masalah \"minimum coin change\". Diberikan jumlah uang dan daftar nilai koin yang tersedia (misalnya, 1, 5, 10, 25), tentukan kombinasi minimum koin yang diperlukan untuk mencapai jumlah uang tersebut. Namun, program Anda harus bisa menangani koin-koin yang nilai dan jumlahnya ditentukan pengguna.\n",
    "- **Tujuan**: Menguji kemampuan mahasiswa dalam memahami dan mengimplementasikan algoritma greedy, serta pemrograman modular.\n"
   ]
  },
  {
   "cell_type": "code",
   "execution_count": 18,
   "metadata": {},
   "outputs": [
    {
     "name": "stdout",
     "output_type": "stream",
     "text": [
      "\n",
      "Koin: [5]\n",
      "Uang:  30 \n",
      "\n",
      "Pilih koin 5 tersisa 25\n",
      "Pilih koin 5 tersisa 20\n",
      "Pilih koin 5 tersisa 15\n",
      "Pilih koin 5 tersisa 10\n",
      "Pilih koin 5 tersisa 5\n",
      "Pilih koin 5 tersisa 0\n",
      "Uang $ 30 dapat ditukar menjadi: 6 koin\n"
     ]
    }
   ],
   "source": [
    "def coinchange(coins, n):\n",
    "    total = 0  # Untuk menghitung jumlah koin yang digunakan\n",
    "    i = 0      # Indeks untuk iterasi\n",
    "    while n > 0:  # Loop selama masih ada jumlah uang yang harus ditukar\n",
    "        # Cari koin terbesar yang masih bisa digunakan\n",
    "        if coins[i] <= n:\n",
    "            n -= coins[i]\n",
    "            print(\"Pilih koin\", coins[i], \"tersisa\", n)\n",
    "            total += 1\n",
    "        else:\n",
    "            i += 1  # Jika koin terlalu besar, coba koin berikutnya\n",
    "        if i >= len(coins):  # Jika sudah tidak ada koin yang bisa digunakan\n",
    "            print(\"Tidak bisa menukar semua uang dengan koin yang tersedia\")\n",
    "            return -1  # Mengembalikan -1 untuk menunjukkan bahwa tidak ada solusi\n",
    "    return total  # Kembalikan total jumlah koin\n",
    "\n",
    "koin = input(\"Masukkan koin (pisahkan dengan spasi): \")\n",
    "uang = input(\"Masukkan uang: \")\n",
    "splitkoin = koin.split(\" \")\n",
    "coins = [int(coin) for coin in splitkoin]  # Mengubah input string menjadi integer\n",
    "coins.sort(reverse=True)  # Mengurutkan koin dari besar ke kecil\n",
    "\n",
    "# Cetak hasil\n",
    "print(\"\\nKoin:\", coins)\n",
    "print(\"Uang: \", uang, \"\\n\")\n",
    "\n",
    "# Panggil fungsi coinchange dan cetak hasilnya\n",
    "total = coinchange(coins, int(uang))\n",
    "if total != -1:\n",
    "    print(\"Uang $\", uang, \"dapat ditukar menjadi:\", total, \"koin\")\n",
    "else:\n",
    "    print(\"Uang $\", uang, \"tidak bisa ditukar dengan kombinasi koin yang ada.\")\n"
   ]
  },
  {
   "cell_type": "markdown",
   "metadata": {},
   "source": [
    "#### **Soal 8: Kombinasi String dan Manipulasi List**\n",
    "\n",
    "- **Soal**: Buat sebuah program yang menerima string dari pengguna dan mengonversi string tersebut menjadi sebuah list berisi kata-kata terbalik. Misalnya:\n",
    "    ```\n",
    "    Input: \"Saya suka Python\"\n",
    "    Output: [\"ayaS\", \"akus\", \"nohtyP\"]\n",
    "    ```\n",
    "\n",
    "- **Tujuan**: Menguji mahasiswa dalam manipulasi string dan list, serta penerapan logika kreatif.\n"
   ]
  },
  {
   "cell_type": "code",
   "execution_count": 15,
   "metadata": {},
   "outputs": [
    {
     "name": "stdout",
     "output_type": "stream",
     "text": [
      "['ayaS', 'akuS', 'nohtyP']\n"
     ]
    }
   ],
   "source": [
    "# Jawaban:\n",
    "def balik_kata(string):\n",
    "    kata_kata = string.split(\" \")\n",
    "    kata_terbalik = []\n",
    "\n",
    "    for kata in kata_kata:\n",
    "        terbalik = \"\"\n",
    "        for char in kata:\n",
    "            terbalik = char + terbalik  \n",
    "        kata_terbalik.append(terbalik)\n",
    "    \n",
    "    return kata_terbalik\n",
    "\n",
    "kalimat = input(\"Masukkan sebuah kalimat: \")\n",
    "hasil = balik_kata(kalimat)\n",
    "print(hasil)"
   ]
  },
  {
   "cell_type": "markdown",
   "metadata": {},
   "source": [
    "#### **Soal 9: Konsep Class dan Object-Oriented Programming**\n",
    "\n",
    "- **Soal**: Buat class bernama `Buku` yang memiliki atribut `judul`, `penulis`, dan `tahun_terbit`. Buat method dalam class untuk menampilkan informasi buku, serta method untuk menghitung usia buku berdasarkan tahun saat ini. Buatlah 3 objek dari class `Buku` dan tampilkan informasi serta usia masing-masing buku.\n",
    "\n",
    "- **Tujuan**: Menguji pemahaman OOP, pembuatan class, penggunaan method, serta manipulasi atribut.\n"
   ]
  },
  {
   "cell_type": "code",
   "execution_count": 3,
   "metadata": {},
   "outputs": [
    {
     "name": "stdout",
     "output_type": "stream",
     "text": [
      "Judul: Laskar Pelangi\n",
      "Penulis: Andrea Hirata\n",
      "Tahun Terbit: 2005\n",
      "Usia buku: 19 tahun\n",
      "\n",
      "Judul: Bumi Manusia\n",
      "Penulis: Pramoedya Ananta Toer\n",
      "Tahun Terbit: 1980\n",
      "Usia buku: 44 tahun\n",
      "\n",
      "Judul: Harry Potter dan Batu Bertuah\n",
      "Penulis: J.K. Rowling\n",
      "Tahun Terbit: 1997\n",
      "Usia buku: 27 tahun\n",
      "\n"
     ]
    }
   ],
   "source": [
    "# Jawaban:\n",
    "\n",
    "from datetime import datetime\n",
    "\n",
    "class Buku:\n",
    "    def __init__(self, judul, penulis, tahun_terbit):\n",
    "        self.judul = judul\n",
    "        self.penulis = penulis\n",
    "        self.tahun_terbit = tahun_terbit\n",
    "\n",
    "    def tampilkan_informasi(self):\n",
    "        print(f\"Judul: {self.judul}\")\n",
    "        print(f\"Penulis: {self.penulis}\")\n",
    "        print(f\"Tahun Terbit: {self.tahun_terbit}\")\n",
    "\n",
    "    def hitung_usia(self):\n",
    "        tahun_sekarang = datetime.now().year\n",
    "        usia = tahun_sekarang - self.tahun_terbit\n",
    "        return usia\n",
    "\n",
    "buku1 = Buku(\"Laskar Pelangi\", \"Andrea Hirata\", 2005)\n",
    "buku2 = Buku(\"Bumi Manusia\", \"Pramoedya Ananta Toer\", 1980)\n",
    "buku3 = Buku(\"Harry Potter dan Batu Bertuah\", \"J.K. Rowling\", 1997)\n",
    "\n",
    "for buku in (buku1, buku2, buku3):\n",
    "    buku.tampilkan_informasi()\n",
    "    print(f\"Usia buku: {buku.hitung_usia()} tahun\\n\")"
   ]
  },
  {
   "cell_type": "markdown",
   "metadata": {},
   "source": [
    "#### **Soal 10: Algoritma dengan Persyaratan Logika Khusus**\n",
    "\n",
    "- **Soal**: Buatlah program yang mengimplementasikan algoritma pencarian biner, namun dengan modifikasi: algoritma harus bisa mencari nilai di list yang hanya berisi angka genap, dan jika nilai yang dicari adalah angka ganjil, program harus menampilkan pesan bahwa nilai tersebut tidak bisa ditemukan.\n",
    "\n",
    "- **Tujuan**: Menguji pemahaman algoritma pencarian serta pengkondisian logika yang lebih kompleks.\n"
   ]
  },
  {
   "cell_type": "code",
   "execution_count": 9,
   "metadata": {},
   "outputs": [
    {
     "name": "stdout",
     "output_type": "stream",
     "text": [
      "Nilai tidak ditemukan karena merupakan angka ganjil.\n",
      "Elemen tidak ditemukan di dalam list\n"
     ]
    }
   ],
   "source": [
    "# Jawaban:\n",
    "def binary_search_even(arr, x):\n",
    "  low = 0\n",
    "  high = len(arr) - 1\n",
    "  mid = 0\n",
    "\n",
    "  if x % 2 != 0:\n",
    "    print(\"Nilai tidak ditemukan karena merupakan angka ganjil.\")\n",
    "    return -1\n",
    "\n",
    "  while low <= high:\n",
    "    mid = (high + low) // 2\n",
    "\n",
    "    if arr[mid] < x:\n",
    "      low = mid + 2\n",
    "    elif arr[mid] > x:\n",
    "      high = mid - 2\n",
    "    else:\n",
    "      return mid\n",
    "\n",
    "  return -1\n",
    "\n",
    "list_str = input(\"Masukkan list angka: \") ###masukkan list angka dengan spasi\n",
    "list = [int(x) for x in list_str.split()]\n",
    "x = int(input(\"Masukkan nilai yang ingin dicari: \"))\n",
    "\n",
    "result = binary_search_even(list, x)\n",
    "\n",
    "if result != -1:\n",
    "  print(\"Elemen ditemukan pada indeks\", str(result))\n",
    "else:\n",
    "  print(\"Elemen tidak ditemukan di dalam list\")"
   ]
  }
 ],
 "metadata": {
  "kernelspec": {
   "display_name": "base",
   "language": "python",
   "name": "python3"
  },
  "language_info": {
   "codemirror_mode": {
    "name": "ipython",
    "version": 3
   },
   "file_extension": ".py",
   "mimetype": "text/x-python",
   "name": "python",
   "nbconvert_exporter": "python",
   "pygments_lexer": "ipython3",
   "version": "3.11.4"
  }
 },
 "nbformat": 4,
 "nbformat_minor": 2
}
