{
 "cells": [
  {
   "cell_type": "code",
   "execution_count": 9,
   "metadata": {},
   "outputs": [
    {
     "name": "stdout",
     "output_type": "stream",
     "text": [
      "     Marketing expense  Production expense  Multiplex coverage     Budget  \\\n",
      "0              20.1264               59.62               0.462  36524.125   \n",
      "1              20.5462               69.14               0.531  35668.655   \n",
      "2              20.5458               69.14               0.531  39912.675   \n",
      "3              20.6474               59.36               0.542  38873.890   \n",
      "4              21.3810               59.36               0.542  39701.585   \n",
      "..                 ...                 ...                 ...        ...   \n",
      "501            21.2526               78.86               0.427  36624.115   \n",
      "502            20.9054               78.86               0.427  33996.600   \n",
      "503            21.2152               78.86               0.427  38751.680   \n",
      "504            22.1918               78.86               0.427  37740.670   \n",
      "505            20.9482               78.86               0.427  33496.650   \n",
      "\n",
      "     Movie_length  Lead_ Actor_Rating  Lead_Actress_rating  Director_rating  \\\n",
      "0           138.7               7.825                8.095            7.910   \n",
      "1           152.4               7.505                7.650            7.440   \n",
      "2           134.6               7.485                7.570            7.495   \n",
      "3           119.3               6.895                7.035            6.920   \n",
      "4           127.7               6.920                7.070            6.815   \n",
      "..            ...                 ...                  ...              ...   \n",
      "501         142.6               8.680                8.775            8.620   \n",
      "502         150.2               8.780                8.945            8.770   \n",
      "503         164.5               8.830                8.970            8.855   \n",
      "504         162.8               8.730                8.845            8.800   \n",
      "505         154.3               8.640                8.880            8.680   \n",
      "\n",
      "     Producer_rating  Critic_rating  Trailer_views 3D_available  Time_taken  \\\n",
      "0              7.995           7.94         527367          YES      109.60   \n",
      "1              7.470           7.44         494055           NO      146.64   \n",
      "2              7.515           7.44         547051           NO      147.88   \n",
      "3              7.020           8.26         516279          YES      185.36   \n",
      "4              7.070           8.26         531448           NO      176.48   \n",
      "..               ...            ...            ...          ...         ...   \n",
      "501            8.970           6.80         492480           NO      186.96   \n",
      "502            8.930           7.80         482875          YES      132.24   \n",
      "503            9.010           7.80         532239           NO      109.56   \n",
      "504            8.845           6.80         496077          YES      158.80   \n",
      "505            8.790           6.80         518438          YES      205.60   \n",
      "\n",
      "     Twitter_hastags     Genre  Avg_age_actors  Num_multiplex  Collection  \\\n",
      "0            223.840  Thriller              23            494       48000   \n",
      "1            243.456     Drama              42            462       43200   \n",
      "2           2022.400    Comedy              38            458       69400   \n",
      "3            225.344     Drama              45            472       66800   \n",
      "4            225.792     Drama              55            395       72400   \n",
      "..               ...       ...             ...            ...         ...   \n",
      "501          243.584    Action              27            561       44800   \n",
      "502          263.296    Action              20            600       41200   \n",
      "503          243.824    Comedy              31            576       47800   \n",
      "504          303.520    Comedy              47            607       44000   \n",
      "505          203.040    Comedy              45            604       38000   \n",
      "\n",
      "     Start_Tech_Oscar  \n",
      "0                   1  \n",
      "1                   0  \n",
      "2                   1  \n",
      "3                   1  \n",
      "4                   1  \n",
      "..                ...  \n",
      "501                 0  \n",
      "502                 0  \n",
      "503                 0  \n",
      "504                 0  \n",
      "505                 0  \n",
      "\n",
      "[506 rows x 19 columns]\n"
     ]
    }
   ],
   "source": [
    "import pandas as pd\n",
    "\n",
    "data = pd.read_csv(\"D:\\Semester 3\\IPSD-Assigment\\Movie_classification.csv\")\n",
    "print(data)\n",
    "\n",
    "data.dropna()  \n",
    "data.dropna(inplace=True)\n",
    " \n",
    "data.duplicated().sum()\n",
    "data.drop_duplicates(keep='fi\n",
    "                     rst', inplace=True)\n",
    "data=data.dropna(axis=1, how='all')"
   ]
  },
  {
   "cell_type": "code",
   "execution_count": 14,
   "metadata": {},
   "outputs": [],
   "source": [
    "data.duplicated().sum()\n",
    "data.drop_duplicates(keep='first', inplace=True)"
   ]
  },
  {
   "cell_type": "code",
   "execution_count": null,
   "metadata": {},
   "outputs": [],
   "source": [
    "# Drop missing values\n",
    "data.dropna(inplace=True)"
   ]
  },
  {
   "cell_type": "code",
   "execution_count": 19,
   "metadata": {},
   "outputs": [
    {
     "name": "stdout",
     "output_type": "stream",
     "text": [
      "Jumlah baris duplikat sebelum dihapus: 0\n",
      "Jumlah baris duplikat setelah dihapus: 0\n"
     ]
    }
   ],
   "source": [
    "#Cek nilai duplikat dan hapus nilai duplikat tersebut\n",
    "jumlah_duplikat_sebelum = data.duplicated().sum()\n",
    "print(f\"Jumlah baris duplikat sebelum dihapus: {jumlah_duplikat_sebelum}\")\n",
    "data.drop_duplicates(inplace=True)\n",
    "jumlah_duplikat_setelah = data.duplicated().sum()\n",
    "print(f\"Jumlah baris duplikat setelah dihapus: {jumlah_duplikat_setelah}\")\n"
   ]
  },
  {
   "cell_type": "code",
   "execution_count": 18,
   "metadata": {},
   "outputs": [
    {
     "name": "stdout",
     "output_type": "stream",
     "text": [
      "\n",
      "Nilai null pada setiap kolom:\n",
      " Marketing expense      0\n",
      "Production expense     0\n",
      "Multiplex coverage     0\n",
      "Budget                 0\n",
      "Movie_length           0\n",
      "Lead_ Actor_Rating     0\n",
      "Lead_Actress_rating    0\n",
      "Director_rating        0\n",
      "Producer_rating        0\n",
      "Critic_rating          0\n",
      "Trailer_views          0\n",
      "3D_available           0\n",
      "Time_taken             0\n",
      "Twitter_hastags        0\n",
      "Genre                  0\n",
      "Avg_age_actors         0\n",
      "Num_multiplex          0\n",
      "Collection             0\n",
      "Start_Tech_Oscar       0\n",
      "dtype: int64\n"
     ]
    }
   ],
   "source": [
    "#Menemukan null values \n",
    "print(\"\\nNilai null pada setiap kolom:\\n\", data.isnull().sum())"
   ]
  },
  {
   "cell_type": "code",
   "execution_count": 12,
   "metadata": {},
   "outputs": [
    {
     "name": "stdout",
     "output_type": "stream",
     "text": [
      "\n",
      "Data setelah memproses nilai duplikat dan missing values:\n",
      "      Marketing expense  Production expense  Multiplex coverage     Budget  \\\n",
      "0              20.1264               59.62               0.462  36524.125   \n",
      "1              20.5462               69.14               0.531  35668.655   \n",
      "2              20.5458               69.14               0.531  39912.675   \n",
      "3              20.6474               59.36               0.542  38873.890   \n",
      "4              21.3810               59.36               0.542  39701.585   \n",
      "..                 ...                 ...                 ...        ...   \n",
      "501            21.2526               78.86               0.427  36624.115   \n",
      "502            20.9054               78.86               0.427  33996.600   \n",
      "503            21.2152               78.86               0.427  38751.680   \n",
      "504            22.1918               78.86               0.427  37740.670   \n",
      "505            20.9482               78.86               0.427  33496.650   \n",
      "\n",
      "     Movie_length  Lead_ Actor_Rating  Lead_Actress_rating  Director_rating  \\\n",
      "0           138.7               7.825                8.095            7.910   \n",
      "1           152.4               7.505                7.650            7.440   \n",
      "2           134.6               7.485                7.570            7.495   \n",
      "3           119.3               6.895                7.035            6.920   \n",
      "4           127.7               6.920                7.070            6.815   \n",
      "..            ...                 ...                  ...              ...   \n",
      "501         142.6               8.680                8.775            8.620   \n",
      "502         150.2               8.780                8.945            8.770   \n",
      "503         164.5               8.830                8.970            8.855   \n",
      "504         162.8               8.730                8.845            8.800   \n",
      "505         154.3               8.640                8.880            8.680   \n",
      "\n",
      "     Producer_rating  Critic_rating  Trailer_views 3D_available  Time_taken  \\\n",
      "0              7.995           7.94         527367          YES      109.60   \n",
      "1              7.470           7.44         494055           NO      146.64   \n",
      "2              7.515           7.44         547051           NO      147.88   \n",
      "3              7.020           8.26         516279          YES      185.36   \n",
      "4              7.070           8.26         531448           NO      176.48   \n",
      "..               ...            ...            ...          ...         ...   \n",
      "501            8.970           6.80         492480           NO      186.96   \n",
      "502            8.930           7.80         482875          YES      132.24   \n",
      "503            9.010           7.80         532239           NO      109.56   \n",
      "504            8.845           6.80         496077          YES      158.80   \n",
      "505            8.790           6.80         518438          YES      205.60   \n",
      "\n",
      "     Twitter_hastags     Genre  Avg_age_actors  Num_multiplex  Collection  \\\n",
      "0            223.840  Thriller              23            494       48000   \n",
      "1            243.456     Drama              42            462       43200   \n",
      "2           2022.400    Comedy              38            458       69400   \n",
      "3            225.344     Drama              45            472       66800   \n",
      "4            225.792     Drama              55            395       72400   \n",
      "..               ...       ...             ...            ...         ...   \n",
      "501          243.584    Action              27            561       44800   \n",
      "502          263.296    Action              20            600       41200   \n",
      "503          243.824    Comedy              31            576       47800   \n",
      "504          303.520    Comedy              47            607       44000   \n",
      "505          203.040    Comedy              45            604       38000   \n",
      "\n",
      "     Start_Tech_Oscar  \n",
      "0                   1  \n",
      "1                   0  \n",
      "2                   1  \n",
      "3                   1  \n",
      "4                   1  \n",
      "..                ...  \n",
      "501                 0  \n",
      "502                 0  \n",
      "503                 0  \n",
      "504                 0  \n",
      "505                 0  \n",
      "\n",
      "[494 rows x 19 columns]\n"
     ]
    }
   ],
   "source": [
    "print(\"\\nData setelah  nilai duplikat dan missing values:\\n\", data)"
   ]
  }
 ],
 "metadata": {
  "kernelspec": {
   "display_name": "base",
   "language": "python",
   "name": "python3"
  },
  "language_info": {
   "codemirror_mode": {
    "name": "ipython",
    "version": 3
   },
   "file_extension": ".py",
   "mimetype": "text/x-python",
   "name": "python",
   "nbconvert_exporter": "python",
   "pygments_lexer": "ipython3",
   "version": "3.11.4"
  }
 },
 "nbformat": 4,
 "nbformat_minor": 2
}
